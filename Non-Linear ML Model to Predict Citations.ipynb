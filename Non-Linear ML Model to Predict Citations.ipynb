{
 "cells": [
  {
   "cell_type": "code",
   "execution_count": 267,
   "id": "ead159a6",
   "metadata": {},
   "outputs": [
    {
     "name": "stdout",
     "output_type": "stream",
     "text": [
      "   MONTH  Dr. Sachin Kumar\n",
      "0      1              1294\n",
      "1      2              1358\n",
      "2      3              1434\n",
      "3      4              1489\n",
      "4      5              1538\n",
      "5      7              1616\n"
     ]
    }
   ],
   "source": [
    "import numpy as np\n",
    "import pandas as pd\n",
    "import matplotlib.pyplot as plot\n",
    "from sklearn.model_selection import train_test_split\n",
    "\n",
    "from sklearn import model_selection\n",
    "from sklearn.linear_model import LinearRegression\n",
    "from sklearn.linear_model import Ridge\n",
    "from sklearn.linear_model import Lasso\n",
    "from sklearn.linear_model import ElasticNet\n",
    "from sklearn.neighbors import KNeighborsRegressor\n",
    "from sklearn.tree import DecisionTreeRegressor\n",
    "from sklearn.svm import SVR\n",
    "from sklearn.ensemble import RandomForestRegressor\n",
    "from sklearn.metrics import r2_score\n",
    "from sklearn.model_selection import train_test_split\n",
    "from sklearn.metrics import mean_squared_error\n",
    "from math import sqrt\n",
    "\n",
    "\n",
    "df = pd.read_excel(r'C:/Users/Sadhvi/Documents/PY-JUPITER/Minor Project/inputData.xlsx') \n",
    "print(df)"
   ]
  },
  {
   "cell_type": "markdown",
   "id": "a3f2dc4c",
   "metadata": {},
   "source": [
    "## Splitting The DataSet"
   ]
  },
  {
   "cell_type": "code",
   "execution_count": 275,
   "id": "31b7a267",
   "metadata": {},
   "outputs": [],
   "source": [
    "month_column = ['MONTH'] \n",
    "cita_column = [\"Dr. Sachin Kumar\"]\n",
    "\n",
    "# Splitting dataset into testset and trainset\n",
    "X = df[month_column].values\n",
    "y = df[cita_column].values\n",
    "# print(X, y)\n",
    "\n",
    "# X1 = TrainingSet[:,0:6]\n",
    "# Y1 = TrainingSet[:,6]\n",
    "\n",
    "# X_train = X[:4]\n",
    "# X_test = X[4:]\n",
    "# print(X_train, X_test)\n",
    "\n",
    "# y_train = y[:4]\n",
    "# y_test = y[4:]\n",
    "# print(y_train)\n",
    "# print(y_test)\n",
    "X_train, X_test, y_train, y_test = train_test_split(X, y, test_size=0.20, random_state=None)\n",
    "# print(X_train.shape)\n",
    "# print(X_test.shape)\n",
    "# print(X_train)\n",
    "# print(X_test)"
   ]
  },
  {
   "cell_type": "markdown",
   "id": "ba04acce",
   "metadata": {},
   "source": [
    "# Random Forest Regressor"
   ]
  },
  {
   "cell_type": "code",
   "execution_count": 276,
   "id": "02d6bd3a",
   "metadata": {},
   "outputs": [
    {
     "name": "stdout",
     "output_type": "stream",
     "text": [
      "[1340.059 1437.559 1573.286 1460.329] [1340.059 1482.547]\n",
      "0.910470019261472\n",
      "0.7903139080246915\n"
     ]
    }
   ],
   "source": [
    "#Random Forest model\n",
    "model_rf = RandomForestRegressor(n_estimators=1000, random_state=42)\n",
    "model_rf.fit(X_train, y_train.ravel()) \n",
    "pred_train_rf= model_rf.predict(X_train)\n",
    "pred_test_rf = model_rf.predict(X_test)\n",
    "print(pred_train_rf, pred_test_rf)\n",
    "trainset_accuracy = r2_score(y_train, pred_train_rf)\n",
    "testset_accuracy = r2_score(y_test, pred_test_rf)\n",
    "print(trainset_accuracy)\n",
    "print(testset_accuracy)"
   ]
  },
  {
   "cell_type": "markdown",
   "id": "83de0c5b",
   "metadata": {},
   "source": [
    "# Saving points to a file"
   ]
  },
  {
   "cell_type": "code",
   "execution_count": 270,
   "id": "0127c831",
   "metadata": {},
   "outputs": [],
   "source": [
    "# Saving the prediction points to a file \n",
    "np.savetxt(\"trainresults.xlsx\", pred_train_rf, delimiter=\",\")\n",
    "np.savetxt(\"testresults.xlsx\", pred_test_rf, delimiter=\",\")"
   ]
  },
  {
   "cell_type": "code",
   "execution_count": 271,
   "id": "59c1d22f",
   "metadata": {},
   "outputs": [],
   "source": [
    "# Taking points from the file\n",
    "TrainResults = np.genfromtxt(\"trainresults.xlsx\", delimiter=\",\")\n",
    "TestResults = np.genfromtxt(\"testresults.xlsx\", delimiter=\",\")\n"
   ]
  },
  {
   "cell_type": "markdown",
   "id": "0bd13abc",
   "metadata": {},
   "source": [
    "# Plotting the output"
   ]
  },
  {
   "cell_type": "code",
   "execution_count": 272,
   "id": "e88af9b7",
   "metadata": {},
   "outputs": [
    {
     "name": "stdout",
     "output_type": "stream",
     "text": [
      "R-Square Value: 0.9003355128542468\n"
     ]
    },
    {
     "data": {
      "text/plain": [
       "<matplotlib.legend.Legend at 0x25ec5f96820>"
      ]
     },
     "execution_count": 272,
     "metadata": {},
     "output_type": "execute_result"
    },
    {
     "data": {
      "image/png": "[encoded data removed]",
      "text/plain": [
       "<Figure size 432x288 with 1 Axes>"
      ]
     },
     "metadata": {
      "needs_background": "light"
     },
     "output_type": "display_data"
    }
   ],
   "source": [
    "print(\"R-Square Value:\", trainset_accuracy)\n",
    "plot.plot(X_train,TrainResults, 'bo', label=\"Prediction\")\n",
    "plot.plot(X_test,TestResults, 'bo')\n",
    "plot.plot(X, y, 'ro', label =\"Actual data\")\n",
    "plot.xticks(rotation = '60'); \n",
    "plot.title('Actual vs Predicted Data')\n",
    "plot.xlabel('Months')\n",
    "plot.ylabel('No. Of Citations')\n",
    "plot.legend()"
   ]
  },
  {
   "cell_type": "code",
   "execution_count": null,
   "id": "9c9d097a",
   "metadata": {},
   "outputs": [],
   "source": []
  }
 ],
 "metadata": {
  "kernelspec": {
   "display_name": "Python 3 (ipykernel)",
   "language": "python",
   "name": "python3"
  },
  "language_info": {
   "codemirror_mode": {
    "name": "ipython",
    "version": 3
   },
   "file_extension": ".py",
   "mimetype": "text/x-python",
   "name": "python",
   "nbconvert_exporter": "python",
   "pygments_lexer": "ipython3",
   "version": "3.9.7"
  }
 },
 "nbformat": 4,
 "nbformat_minor": 5
}
